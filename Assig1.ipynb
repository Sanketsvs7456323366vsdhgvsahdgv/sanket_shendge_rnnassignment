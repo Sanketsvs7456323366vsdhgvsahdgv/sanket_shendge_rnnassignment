{
 "cells": [
  {
   "cell_type": "code",
   "execution_count": 6,
   "id": "829428a1",
   "metadata": {},
   "outputs": [],
   "source": [
    "import numpy as np\n",
    "from tensorflow.keras.models import Sequential\n",
    "from tensorflow.keras.layers import SimpleRNN, Dense"
   ]
  },
  {
   "cell_type": "code",
   "execution_count": 8,
   "id": "78746513-7a52-45b8-bde7-9fe25ac8d48a",
   "metadata": {},
   "outputs": [],
   "source": [
    "# Generate dummy sequence data\n",
    "# Each input sample is of shape (timesteps, features)\n",
    "X = np.array([\n",
    "    [[0.1], [0.2], [0.3]],\n",
    "    [[0.2], [0.3], [0.4]],\n",
    "    [[0.3], [0.4], [0.5]],\n",
    "    [[0.4], [0.5], [0.6]],\n",
    "])\n",
    "y = np.array([\n",
    "    [0.4],\n",
    "    [0.5],\n",
    "    [0.6],\n",
    "    [0.7]\n",
    "])\n"
   ]
  },
  {
   "cell_type": "code",
   "execution_count": 12,
   "id": "c4e2bae8-76ba-4398-ba78-bc9ff07a1700",
   "metadata": {},
   "outputs": [],
   "source": [
    "from keras.models import Sequential\n",
    "from keras.layers import Input, SimpleRNN, Dense\n",
    "\n",
    "model = Sequential([\n",
    "    Input(shape=(10, 1)),        # Correct way to define input shape\n",
    "    SimpleRNN(50),\n",
    "    Dense(1)\n",
    "])\n",
    "\n"
   ]
  },
  {
   "cell_type": "code",
   "execution_count": 14,
   "id": "5ae3bf26-63a3-4a9f-9289-c055d3982e58",
   "metadata": {},
   "outputs": [],
   "source": [
    "model.compile(optimizer='adam', loss='mse')\n"
   ]
  },
  {
   "cell_type": "code",
   "execution_count": 16,
   "id": "56eb2093-0ae6-42d8-985f-5b77230e3cf9",
   "metadata": {},
   "outputs": [
    {
     "data": {
      "text/plain": [
       "<keras.src.callbacks.history.History at 0x2cd9d67b860>"
      ]
     },
     "execution_count": 16,
     "metadata": {},
     "output_type": "execute_result"
    }
   ],
   "source": [
    "model.fit(X, y, epochs=200, verbose=0)\n"
   ]
  },
  {
   "cell_type": "code",
   "execution_count": 17,
   "id": "8cdb67f8-2ae5-4fe1-8d88-a1d61558efd3",
   "metadata": {},
   "outputs": [
    {
     "name": "stdout",
     "output_type": "stream",
     "text": [
      "\u001b[1m1/1\u001b[0m \u001b[32m━━━━━━━━━━━━━━━━━━━━\u001b[0m\u001b[37m\u001b[0m \u001b[1m1s\u001b[0m 661ms/step\n",
      "Predicted Output: [[0.791429]]\n"
     ]
    }
   ],
   "source": [
    "# Test input\n",
    "test_input = np.array([[[0.5], [0.6], [0.7]]])  # shape (1, 3, 1)\n",
    "predicted_output = model.predict(test_input)\n",
    "print(\"Predicted Output:\", predicted_output)\n"
   ]
  },
  {
   "cell_type": "code",
   "execution_count": null,
   "id": "2275592c-5570-43af-a38d-e35a52da5a63",
   "metadata": {},
   "outputs": [],
   "source": [
    "   \n"
   ]
  },
  {
   "cell_type": "code",
   "execution_count": null,
   "id": "a0f1dac4-d6fa-4b48-8046-030fe95c60d6",
   "metadata": {},
   "outputs": [],
   "source": []
  }
 ],
 "metadata": {
  "kernelspec": {
   "display_name": "Python 3 (ipykernel)",
   "language": "python",
   "name": "python3"
  },
  "language_info": {
   "codemirror_mode": {
    "name": "ipython",
    "version": 3
   },
   "file_extension": ".py",
   "mimetype": "text/x-python",
   "name": "python",
   "nbconvert_exporter": "python",
   "pygments_lexer": "ipython3",
   "version": "3.12.7"
  }
 },
 "nbformat": 4,
 "nbformat_minor": 5
}
